{
 "cells": [
  {
   "cell_type": "markdown",
   "metadata": {},
   "source": [
    "<h2><center>Implementation on Simulated Stock</center></h2>"
   ]
  },
  {
   "cell_type": "markdown",
   "metadata": {},
   "source": [
    "## Data selection: 10 year weekly data generated from GBM and CEV process"
   ]
  },
  {
   "cell_type": "code",
   "execution_count": 1,
   "metadata": {
    "collapsed": true
   },
   "outputs": [],
   "source": [
    "%matplotlib inline\n",
    "\n",
    "import pandas as pd\n",
    "import numpy as np\n",
    "import os\n",
    "import matplotlib.pyplot as plt"
   ]
  },
  {
   "cell_type": "markdown",
   "metadata": {},
   "source": [
    "### Firstly, we work on GBM data"
   ]
  },
  {
   "cell_type": "markdown",
   "metadata": {},
   "source": [
    "Import data"
   ]
  },
  {
   "cell_type": "code",
   "execution_count": 8,
   "metadata": {},
   "outputs": [
    {
     "name": "stdout",
     "output_type": "stream",
     "text": [
      "520\n",
      "519\n",
      "(50, 519)\n"
     ]
    }
   ],
   "source": [
    "N = 50\n",
    "data_path = './data_simulated/GBM/'\n",
    "GBM0 = pd.read_csv(data_path + \"GBM1.csv\", header=0, index_col=0, squeeze=True)\n",
    "price_GBM0 = GBM0.values\n",
    "rtn_GBM0 = (price_GBM0[1:]-price_GBM0[:-1])/price_GBM0[:-1]\n",
    "print(len(price_GBM0))\n",
    "print(len(rtn_GBM0))\n",
    "X = np.zeros((N, len(rtn_GBM0)))\n",
    "print(X.shape)\n",
    "n_prices = len(price_GBM0)"
   ]
  },
  {
   "cell_type": "code",
   "execution_count": 9,
   "metadata": {},
   "outputs": [
    {
     "data": {
      "text/plain": [
       "(array([122., 115.,  74.,  35.,  25.,  52.,  26.,  28.,  25.,  18.]),\n",
       " array([3.27084552, 3.9123925 , 4.55393949, 5.19548647, 5.83703346,\n",
       "        6.47858044, 7.12012743, 7.76167441, 8.4032214 , 9.04476838,\n",
       "        9.68631537]),\n",
       " <a list of 10 Patch objects>)"
      ]
     },
     "execution_count": 9,
     "metadata": {},
     "output_type": "execute_result"
    },
    {
     "data": {
      "image/png": "[encoded data removed]",
      "text/plain": [
       "<matplotlib.figure.Figure at 0x113d80748>"
      ]
     },
     "metadata": {},
     "output_type": "display_data"
    }
   ],
   "source": [
    "plt.hist(price_GBM0)"
   ]
  },
  {
   "cell_type": "code",
   "execution_count": 10,
   "metadata": {
    "collapsed": true
   },
   "outputs": [],
   "source": [
    "rtn = np.zeros((N, n_prices - 1))\n",
    "price = np.zeros((N, n_prices))\n",
    "i = 0\n",
    "for file in os.listdir(data_path):\n",
    "    if file[-3:] == \"csv\":\n",
    "        data = pd.read_csv(data_path + file, header=0, index_col=0, squeeze=True)\n",
    "        # Price\n",
    "        this_price = data.values\n",
    "        price[i] = this_price\n",
    "\n",
    "        # Return\n",
    "        this_rtn = (this_price[1:]-this_price[:-1])/this_price[:-1]\n",
    "        #convert to annual. Seems like simple conversion is better\n",
    "        this_rtn = 52 * this_rtn\n",
    "        rtn[i] = this_rtn\n",
    "        i += 1"
   ]
  },
  {
   "cell_type": "markdown",
   "metadata": {},
   "source": [
    "Define constants"
   ]
  },
  {
   "cell_type": "code",
   "execution_count": 11,
   "metadata": {},
   "outputs": [
    {
     "name": "stdout",
     "output_type": "stream",
     "text": [
      "[ 0.03317896  0.00373742  0.03683992  0.06921542  0.18707944  0.17545104\n",
      "  0.02396633  0.10777009  0.02614506  0.02574812  0.22131546  0.04498329\n",
      "  0.03167616  0.05067317  0.0798175   0.10313782 -0.00468986  0.09308502\n",
      " -0.00535898  0.03795321  0.09403145 -0.03505117  0.10688326  0.10422198\n",
      "  0.00436196  0.10801974  0.02710896  0.04654108  0.05462837  0.02731273\n",
      "  0.03665764  0.07453948  0.06876863  0.12063271 -0.02561801  0.0436263\n",
      "  0.04016938  0.12016662  0.09458565  0.08508497  0.08162248  0.14789019\n",
      "  0.08903963  0.00543739  0.03947719  0.02529448 -0.01444883  0.11550556\n",
      "  0.04217131  0.06954132]\n",
      "(50, 519)\n",
      "(50, 50)\n",
      "[ 5.22276448 11.11792108 11.79051349 24.53957518 22.34988212 29.75570928\n",
      " 10.71708676 22.93387588  5.66315992 24.96406736 22.72917989 27.18903692\n",
      " 20.91770283 22.66012351  4.3444844  19.21765036  4.41210814  2.4228245\n",
      " 28.62719145 16.06405615 26.38311276 25.57782193 29.0279219   3.51860549\n",
      " 10.54130556 12.42898312 12.14873043  1.2930199  27.55688522 29.84895863\n",
      " 24.51443943 22.04671606 21.25761101 13.66135678  9.01235263  9.6818143\n",
      "  9.20361977  7.03247601 23.27812424 22.00216191 11.90648744  6.04101592\n",
      "  0.36850456  5.8060481  18.61773583 20.72749201 21.11494374 21.84410247\n",
      "  2.19881098  6.76559494]\n",
      "(50, 520)\n"
     ]
    }
   ],
   "source": [
    "r = 0.025\n",
    "mu = np.mean(rtn, axis=1)\n",
    "print(mu)\n",
    "print(rtn.shape)\n",
    "cov = np.cov(rtn)\n",
    "# print(cov)\n",
    "print(cov.shape)\n",
    "print(price[:, 0])\n",
    "print(price.shape)"
   ]
  },
  {
   "cell_type": "markdown",
   "metadata": {},
   "source": [
    "Recode the formula"
   ]
  },
  {
   "cell_type": "code",
   "execution_count": 12,
   "metadata": {
    "collapsed": true
   },
   "outputs": [],
   "source": [
    "def allconst(gamma = 10):\n",
    "    num_stock = 0\n",
    "    bank_account = 0\n",
    "    stock_account = 0\n",
    "    bank_hist = np.zeros(n_prices)\n",
    "    stock_hist = np.zeros(n_prices)\n",
    "\n",
    "    for i in range(1, n_prices):\n",
    "        # PnL summary\n",
    "        price_today = price[:, i]\n",
    "        price_ytd = price[:, i-1]\n",
    "        stock_account += num_stock * (price_today - price_ytd)\n",
    "\n",
    "        # Do as strategy\n",
    "        # amount of money invested\n",
    "        inverse = np.linalg.inv(np.dot(cov.T, cov))\n",
    "        theta = np.dot(inverse, (mu - r) / gamma * np.exp(-r * (10 - i/52)))\n",
    "        num_stock = theta / price_today\n",
    "        \n",
    "        \n",
    "        bank_account -= (np.sum(theta) - stock_account)[0]\n",
    "        stock_account = np.sum(theta)\n",
    "\n",
    "        # Record history\n",
    "        bank_hist[i] = bank_account\n",
    "        stock_hist[i] = stock_account\n",
    "\n",
    "        # Earn risk free rate\n",
    "        bank_account *= np.exp(r * 1/52)\n",
    "\n",
    "    wealth = stock_account + bank_account\n",
    "    print(\"Final wealth is: \", wealth)\n",
    "    return wealth, stock_account, bank_account, stock_hist, bank_hist"
   ]
  },
  {
   "cell_type": "code",
   "execution_count": 13,
   "metadata": {},
   "outputs": [
    {
     "name": "stdout",
     "output_type": "stream",
     "text": [
      "Final wealth is:  2873.837498374709\n"
     ]
    },
    {
     "data": {
      "text/plain": [
       "[<matplotlib.lines.Line2D at 0x114dc0828>]"
      ]
     },
     "execution_count": 13,
     "metadata": {},
     "output_type": "execute_result"
    },
    {
     "data": {
      "image/png": "[encoded data removed]",
      "text/plain": [
       "<matplotlib.figure.Figure at 0x11431fe48>"
      ]
     },
     "metadata": {},
     "output_type": "display_data"
    }
   ],
   "source": [
    "gamma = 1\n",
    "wealth, stock_account, bank_account, stock_hist, bank_hist = allconst(gamma = gamma)\n",
    "plt.title(\"The simplest strategy, gamma = \" + str(gamma))\n",
    "plt.plot(stock_hist + bank_hist)"
   ]
  },
  {
   "cell_type": "markdown",
   "metadata": {},
   "source": [
    "See the CEV case"
   ]
  },
  {
   "cell_type": "code",
   "execution_count": 14,
   "metadata": {
    "collapsed": true
   },
   "outputs": [],
   "source": [
    "def CEV(gamma = 10, alpha = 1):\n",
    "    num_stock = 0\n",
    "    bank_account = 0\n",
    "    stock_account = 0\n",
    "    bank_hist = np.zeros(n_prices)\n",
    "    stock_hist = np.zeros(n_prices)\n",
    "\n",
    "    for i in range(1, n_prices):\n",
    "        # PnL summary\n",
    "        price_today = price[:, i]\n",
    "        price_ytd = price[:, i-1]\n",
    "        stock_account += num_stock * (price_today - price_ytd)\n",
    "\n",
    "        # Do as strategy\n",
    "        # amount of money invested\n",
    "        inverse1 = np.linalg.inv(cov)\n",
    "        inverse2 = np.linalg.inv(np.dot(cov.T, cov))\n",
    "        sharp1 = np.dot(inverse2, (mu - r) / price_today ** alpha)\n",
    "        sharp2 = np.dot(inverse2, (mu - r)**2 / price_today**alpha)\n",
    "        exp = np.exp(-r * (10 - i/52))\n",
    "        theta =  1/gamma * sharp1 * exp  \\\n",
    "                - 1/gamma*(sharp2)* ((np.exp(-alpha * r * (10 - i/52)) -1 )/r) * exp\n",
    "        num_stock = theta / price_today\n",
    "        \n",
    "        bank_account -= (np.sum(theta) - stock_account)[0]\n",
    "        stock_account = np.sum(theta)\n",
    "\n",
    "        # Record history\n",
    "        bank_hist[i] = bank_account\n",
    "        stock_hist[i] = stock_account\n",
    "\n",
    "        # Earn risk free rate\n",
    "        bank_account *= np.exp(r * 1/52)\n",
    "\n",
    "    wealth = stock_account + bank_account\n",
    "    print(\"Final wealth is: \", wealth)\n",
    "    return wealth, stock_account, bank_account, stock_hist, bank_hist"
   ]
  },
  {
   "cell_type": "code",
   "execution_count": 15,
   "metadata": {},
   "outputs": [
    {
     "name": "stdout",
     "output_type": "stream",
     "text": [
      "Final wealth is:  -666.2018459611822\n",
      "Final wealth is:  15819.869233353733\n"
     ]
    }
   ],
   "source": [
    "alpha = 0.4\n",
    "wealth, stock_account, bank_account, stock_hist_CEV, bank_hist_CEV = CEV(gamma = gamma, alpha = alpha)\n",
    "# plt.title(\"Strategy assuming CEV process, gamma = \" + str(gamma)+ \", alpha = \" + str(alpha))\n",
    "# plt.plot(stock_hist_CEV + bank_hist_CEV)\n",
    "\n",
    "alpha_1 = -0.4\n",
    "wealth_1, stock_account_1, bank_account_1, stock_hist_CEV_1, bank_hist_CEV_1 = CEV(gamma = gamma, alpha = alpha_1)\n",
    "# plt.title(\"Strategy assuming CEV process, gamma = \" + str(gamma)+ \", alpha = \" + str(alpha))\n",
    "# plt.plot(stock_hist_CEV_1 + bank_hist_CEV_1)"
   ]
  },
  {
   "cell_type": "code",
   "execution_count": 16,
   "metadata": {},
   "outputs": [
    {
     "data": {
      "image/png": "[encoded data removed]",
      "text/plain": [
       "<matplotlib.figure.Figure at 0x11431b978>"
      ]
     },
     "metadata": {},
     "output_type": "display_data"
    }
   ],
   "source": [
    "plt.title(\"Strategy assuming CEV process\")\n",
    "plt.plot(stock_hist_CEV + bank_hist_CEV, \"r\", label = \"alpha = \"+str(alpha))\n",
    "plt.legend()\n",
    "plt.plot(stock_hist_CEV_1 + bank_hist_CEV_1, \"b\", label = \"alpha = \"+str(alpha_1))\n",
    "plt.legend()\n",
    "plt.show()"
   ]
  },
  {
   "cell_type": "markdown",
   "metadata": {},
   "source": [
    "### Compare CEV vs Simple strategy"
   ]
  },
  {
   "cell_type": "code",
   "execution_count": 17,
   "metadata": {},
   "outputs": [
    {
     "data": {
      "image/png": "[encoded data removed]",
      "text/plain": [
       "<matplotlib.figure.Figure at 0x115003ef0>"
      ]
     },
     "metadata": {},
     "output_type": "display_data"
    }
   ],
   "source": [
    "plt.title(\"Mixed comparison\")\n",
    "plt.plot(stock_hist + bank_hist, \"g\", label='Simple')\n",
    "plt.legend()\n",
    "plt.plot(stock_hist_CEV + bank_hist_CEV, \"r\", label = \"CEV, alpha=\" +str(alpha))\n",
    "plt.legend()\n",
    "plt.plot(stock_hist_CEV_1 + bank_hist_CEV_1, \"b\", label = \"CEV, alpha = \"+str(alpha_1))\n",
    "plt.legend()\n",
    "plt.savefig('GBMmixed.png')\n",
    "plt.show()"
   ]
  },
  {
   "cell_type": "markdown",
   "metadata": {},
   "source": [
    "Theoritical ortfolio gain: -ve alpha > simple > +ve alpha"
   ]
  },
  {
   "cell_type": "code",
   "execution_count": null,
   "metadata": {
    "collapsed": true
   },
   "outputs": [],
   "source": []
  },
  {
   "cell_type": "markdown",
   "metadata": {},
   "source": [
    "### Next, we work on simulated CEV stocks. (Note that data were generated assuming alpha = 1)"
   ]
  },
  {
   "cell_type": "markdown",
   "metadata": {},
   "source": [
    "Import data"
   ]
  },
  {
   "cell_type": "code",
   "execution_count": 18,
   "metadata": {},
   "outputs": [
    {
     "name": "stdout",
     "output_type": "stream",
     "text": [
      "520\n",
      "519\n",
      "(50, 519)\n"
     ]
    }
   ],
   "source": [
    "N = 50\n",
    "data_path = './data_simulated/CEV/'\n",
    "GBM0 = pd.read_csv(data_path + \"CEV1.csv\", header=0, index_col=0, squeeze=True)\n",
    "price_GBM0 = GBM0.values\n",
    "rtn_GBM0 = (price_GBM0[1:]-price_GBM0[:-1])/price_GBM0[:-1]\n",
    "print(len(price_GBM0))\n",
    "print(len(rtn_GBM0))\n",
    "X = np.zeros((N, len(rtn_GBM0)))\n",
    "print(X.shape)\n",
    "n_prices = len(price_GBM0)"
   ]
  },
  {
   "cell_type": "code",
   "execution_count": 19,
   "metadata": {},
   "outputs": [
    {
     "data": {
      "text/plain": [
       "(array([159.,  24.,  39.,  95.,  62.,  53.,  35.,  40.,   9.,   4.]),\n",
       " array([ 1.3823221 ,  2.76063867,  4.13895525,  5.51727182,  6.89558839,\n",
       "         8.27390496,  9.65222153, 11.0305381 , 12.40885467, 13.78717124,\n",
       "        15.16548781]),\n",
       " <a list of 10 Patch objects>)"
      ]
     },
     "execution_count": 19,
     "metadata": {},
     "output_type": "execute_result"
    },
    {
     "data": {
      "image/png": "[encoded data removed]",
      "text/plain": [
       "<matplotlib.figure.Figure at 0x114e344e0>"
      ]
     },
     "metadata": {},
     "output_type": "display_data"
    }
   ],
   "source": [
    "plt.hist(price_GBM0)"
   ]
  },
  {
   "cell_type": "code",
   "execution_count": 20,
   "metadata": {
    "collapsed": true
   },
   "outputs": [],
   "source": [
    "rtn = np.zeros((N, n_prices - 1))\n",
    "price = np.zeros((N, n_prices))\n",
    "i = 0\n",
    "for file in os.listdir(data_path):\n",
    "    if file[-3:] == \"csv\":\n",
    "        data = pd.read_csv(data_path + file, header=0, index_col=0, squeeze=True)\n",
    "        # Price\n",
    "        this_price = data.values\n",
    "        price[i] = this_price\n",
    "\n",
    "        # Return\n",
    "        this_rtn = (this_price[1:]-this_price[:-1])/this_price[:-1]\n",
    "        #convert to annual. Seems like simple conversion is better\n",
    "        this_rtn = 52 * this_rtn\n",
    "    #     if len(this_rtn) != 522:\n",
    "    #         print(file, ', ', len(this_rtn))\n",
    "    #     else:\n",
    "    #         rtn[i] = this_rtn\n",
    "        rtn[i] = this_rtn\n",
    "        i += 1"
   ]
  },
  {
   "cell_type": "markdown",
   "metadata": {},
   "source": [
    "Define constants"
   ]
  },
  {
   "cell_type": "code",
   "execution_count": 21,
   "metadata": {},
   "outputs": [
    {
     "name": "stdout",
     "output_type": "stream",
     "text": [
      "[-0.08220338 -0.01730947  0.18852873 -0.05590641 -0.00842421  0.04487975\n",
      "  0.2157111   0.00754245 -0.17133413  0.29416778  0.05711559  0.22699278\n",
      " -0.07936268  0.10419567 -0.00918686 -0.03520897 -0.07745269  0.07115933\n",
      "  0.03789944  0.1419046   0.01502769 -0.04035603 -0.0580876   0.04569031\n",
      "  0.04682112  0.10355521  0.03862357 -0.06735446  0.05792788  0.26663743\n",
      " -0.01064605  0.54993754 -0.06050872  0.09038369 -0.08676088  0.08554509\n",
      "  0.15368409  0.03187898  0.00612428 -0.13829397  0.05785659 -0.0369295\n",
      " -0.09468409  0.03091723  0.15598406  0.08373346  0.3079247   0.04459659\n",
      " -0.15020285 -0.07746887]\n",
      "(50, 519)\n",
      "(50, 50)\n",
      "[15.26081487 11.50005824 16.32529634 21.24321597  0.56906894  5.30586546\n",
      " 18.45513049 23.7519393  16.64322629  2.46709883 17.26352064 14.17165704\n",
      " 21.56891186 16.43978006 19.16220771  8.73625643 24.78070923 12.06281695\n",
      " 11.34073066 24.29138079 17.32446646 17.44381712  9.78631584 13.36712277\n",
      " 17.91878095 20.27091317 20.3305009  18.18934368 28.93951268  1.51161953\n",
      "  1.70384935  3.93028907 12.70227476  5.56092286 27.02772774 15.53816947\n",
      " 27.71672354  2.38908842 18.2254102  22.40620969 10.61721063 26.33795976\n",
      " 15.43290231 22.7011906   0.9869177   1.20831901 22.08070417 25.86694383\n",
      " 15.59332736  1.57097241]\n",
      "(50, 520)\n"
     ]
    }
   ],
   "source": [
    "r = 0.025\n",
    "mu = np.mean(rtn, axis=1)\n",
    "print(mu)\n",
    "print(rtn.shape)\n",
    "cov = np.cov(rtn)\n",
    "# print(cov)\n",
    "print(cov.shape)\n",
    "print(price[:, 0])\n",
    "print(price.shape)"
   ]
  },
  {
   "cell_type": "markdown",
   "metadata": {},
   "source": [
    "Recode the formula"
   ]
  },
  {
   "cell_type": "code",
   "execution_count": 22,
   "metadata": {
    "collapsed": true
   },
   "outputs": [],
   "source": [
    "def allconst(gamma = 10):\n",
    "    num_stock = 0\n",
    "    bank_account = 0\n",
    "    stock_account = 0\n",
    "    bank_hist = np.zeros(n_prices)\n",
    "    stock_hist = np.zeros(n_prices)\n",
    "\n",
    "    for i in range(1, n_prices):\n",
    "        # PnL summary\n",
    "        price_today = price[:, i]\n",
    "        price_ytd = price[:, i-1]\n",
    "        stock_account += num_stock * (price_today - price_ytd)\n",
    "\n",
    "        # Do as strategy\n",
    "        # amount of money invested\n",
    "        inverse = np.linalg.inv(np.dot(cov.T, cov))\n",
    "        theta = np.dot(inverse, (mu - r) / gamma * np.exp(-r * (10 - i/52)))\n",
    "        num_stock = theta / price_today\n",
    "        \n",
    "        \n",
    "        bank_account -= (np.sum(theta) - stock_account)[0]\n",
    "        stock_account = np.sum(theta)\n",
    "\n",
    "        # Record history\n",
    "        bank_hist[i] = bank_account\n",
    "        stock_hist[i] = stock_account\n",
    "\n",
    "        # Earn risk free rate\n",
    "        bank_account *= np.exp(r * 1/52)\n",
    "\n",
    "    wealth = stock_account + bank_account\n",
    "    print(\"Final wealth is: \", wealth)\n",
    "    return wealth, stock_account, bank_account, stock_hist, bank_hist"
   ]
  },
  {
   "cell_type": "code",
   "execution_count": 23,
   "metadata": {},
   "outputs": [
    {
     "name": "stdout",
     "output_type": "stream",
     "text": [
      "Final wealth is:  -18.312004964044476\n"
     ]
    },
    {
     "data": {
      "text/plain": [
       "[<matplotlib.lines.Line2D at 0x1157f7048>]"
      ]
     },
     "execution_count": 23,
     "metadata": {},
     "output_type": "execute_result"
    },
    {
     "data": {
      "image/png": "[encoded data removed]",
      "text/plain": [
       "<matplotlib.figure.Figure at 0x115775c18>"
      ]
     },
     "metadata": {},
     "output_type": "display_data"
    }
   ],
   "source": [
    "gamma = 1\n",
    "wealth, stock_account, bank_account, stock_hist, bank_hist = allconst(gamma = gamma)\n",
    "plt.title(\"The simplest strategy, gamma = \" + str(gamma))\n",
    "plt.plot(stock_hist + bank_hist)"
   ]
  },
  {
   "cell_type": "markdown",
   "metadata": {},
   "source": [
    "See the CEV case"
   ]
  },
  {
   "cell_type": "code",
   "execution_count": 24,
   "metadata": {
    "collapsed": true
   },
   "outputs": [],
   "source": [
    "def CEV(gamma = 10, alpha = 1):\n",
    "    num_stock = 0\n",
    "    bank_account = 0\n",
    "    stock_account = 0\n",
    "    bank_hist = np.zeros(n_prices)\n",
    "    stock_hist = np.zeros(n_prices)\n",
    "\n",
    "    for i in range(1, n_prices):\n",
    "        # PnL summary\n",
    "        price_today = price[:, i]\n",
    "        price_ytd = price[:, i-1]\n",
    "        stock_account += num_stock * (price_today - price_ytd)\n",
    "\n",
    "        # Do as strategy\n",
    "        # amount of money invested\n",
    "        inverse1 = np.linalg.inv(cov)\n",
    "        inverse2 = np.linalg.inv(np.dot(cov.T, cov))\n",
    "        sharp1 = np.dot(inverse2, (mu - r) / price_today ** alpha)\n",
    "        sharp2 = np.dot(inverse2, (mu - r)**2 / price_today**alpha)\n",
    "        exp = np.exp(-r * (10 - i/52))\n",
    "        theta =  1/gamma * sharp1 * exp  \\\n",
    "                - 1/gamma*(sharp2)* ((np.exp(-alpha * r * (10 - i/52)) -1 )/r) * exp\n",
    "        num_stock = theta / price_today\n",
    "        \n",
    "        bank_account -= (np.sum(theta) - stock_account)[0]\n",
    "        stock_account = np.sum(theta)\n",
    "\n",
    "        # Record history\n",
    "        bank_hist[i] = bank_account\n",
    "        stock_hist[i] = stock_account\n",
    "\n",
    "        # Earn risk free rate\n",
    "        bank_account *= np.exp(r * 1/52)\n",
    "\n",
    "    wealth = stock_account + bank_account\n",
    "    print(\"Final wealth is: \", wealth)\n",
    "    return wealth, stock_account, bank_account, stock_hist, bank_hist"
   ]
  },
  {
   "cell_type": "code",
   "execution_count": 25,
   "metadata": {},
   "outputs": [
    {
     "name": "stdout",
     "output_type": "stream",
     "text": [
      "Final wealth is:  6.001475195112889\n",
      "Final wealth is:  -667.0694079436103\n"
     ]
    }
   ],
   "source": [
    "alpha = 1\n",
    "wealth, stock_account, bank_account, stock_hist_CEV, bank_hist_CEV = CEV(gamma = gamma, alpha = alpha)\n",
    "# plt.title(\"Strategy assuming CEV process, gamma = \" + str(gamma)+ \", alpha = \" + str(alpha))\n",
    "# plt.plot(stock_hist_CEV + bank_hist_CEV)\n",
    "\n",
    "alpha_1 = -1\n",
    "wealth_1, stock_account_1, bank_account_1, stock_hist_CEV_1, bank_hist_CEV_1 = CEV(gamma = gamma, alpha = alpha_1)\n",
    "# plt.title(\"Strategy assuming CEV process, gamma = \" + str(gamma)+ \", alpha = \" + str(alpha))\n",
    "# plt.plot(stock_hist_CEV_1 + bank_hist_CEV_1)"
   ]
  },
  {
   "cell_type": "code",
   "execution_count": 26,
   "metadata": {},
   "outputs": [
    {
     "data": {
      "image/png": "[encoded data removed]",
      "text/plain": [
       "<matplotlib.figure.Figure at 0x1157756a0>"
      ]
     },
     "metadata": {},
     "output_type": "display_data"
    }
   ],
   "source": [
    "plt.title(\"Strategy assuming CEV process\")\n",
    "plt.plot(stock_hist_CEV + bank_hist_CEV, \"r\", label = \"alpha = \"+str(alpha))\n",
    "plt.legend()\n",
    "plt.plot(stock_hist_CEV_1 + bank_hist_CEV_1, \"b\", label = \"alpha = \"+str(alpha_1))\n",
    "plt.legend()\n",
    "plt.savefig('CEV1vs-1.png')\n",
    "plt.show()"
   ]
  },
  {
   "cell_type": "markdown",
   "metadata": {},
   "source": [
    "### Compare CEV vs Simple strategy"
   ]
  },
  {
   "cell_type": "code",
   "execution_count": 67,
   "metadata": {},
   "outputs": [
    {
     "data": {
      "image/png": "[encoded data removed]",
      "text/plain": [
       "<matplotlib.figure.Figure at 0x110d42438>"
      ]
     },
     "metadata": {},
     "output_type": "display_data"
    }
   ],
   "source": [
    "plt.title(\"Mixed comparison\")\n",
    "plt.plot(stock_hist + bank_hist, \"g\", label='Simple')\n",
    "plt.legend()\n",
    "plt.plot(stock_hist_CEV + bank_hist_CEV, \"r\", label = \"CEV, alpha=\" +str(alpha))\n",
    "plt.legend()\n",
    "# plt.plot(stock_hist_CEV_1 + bank_hist_CEV_1, \"b\", label = \"CEV, alpha = \"+str(alpha_1))\n",
    "# plt.legend()\n",
    "plt.savefig('CEV1vssimp.png')\n",
    "plt.show()"
   ]
  }
 ],
 "metadata": {
  "kernelspec": {
   "display_name": "Python 3",
   "language": "python",
   "name": "python3"
  },
  "language_info": {
   "codemirror_mode": {
    "name": "ipython",
    "version": 3
   },
   "file_extension": ".py",
   "mimetype": "text/x-python",
   "name": "python",
   "nbconvert_exporter": "python",
   "pygments_lexer": "ipython3",
   "version": "3.6.2"
  }
 },
 "nbformat": 4,
 "nbformat_minor": 2
}
